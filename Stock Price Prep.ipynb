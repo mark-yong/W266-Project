{
 "cells": [
  {
   "cell_type": "code",
   "execution_count": 1,
   "metadata": {},
   "outputs": [],
   "source": [
    "import pandas as pd\n",
    "import numpy as np"
   ]
  },
  {
   "cell_type": "code",
   "execution_count": 2,
   "metadata": {},
   "outputs": [],
   "source": [
    "dji = pd.read_csv('DJI.csv')"
   ]
  },
  {
   "cell_type": "code",
   "execution_count": 3,
   "metadata": {},
   "outputs": [],
   "source": [
    "dji['Date'] = pd.to_datetime(dji['Date'])"
   ]
  },
  {
   "cell_type": "code",
   "execution_count": 4,
   "metadata": {},
   "outputs": [],
   "source": [
    "# Set to EST (DJI follows Eastern Time)\n",
    "dji['Date'] = dji['Date'].dt.tz_localize('US/Eastern')"
   ]
  },
  {
   "cell_type": "code",
   "execution_count": 6,
   "metadata": {},
   "outputs": [
    {
     "data": {
      "text/html": [
       "<div>\n",
       "<style scoped>\n",
       "    .dataframe tbody tr th:only-of-type {\n",
       "        vertical-align: middle;\n",
       "    }\n",
       "\n",
       "    .dataframe tbody tr th {\n",
       "        vertical-align: top;\n",
       "    }\n",
       "\n",
       "    .dataframe thead th {\n",
       "        text-align: right;\n",
       "    }\n",
       "</style>\n",
       "<table border=\"1\" class=\"dataframe\">\n",
       "  <thead>\n",
       "    <tr style=\"text-align: right;\">\n",
       "      <th></th>\n",
       "      <th>Date</th>\n",
       "      <th>Open</th>\n",
       "      <th>High</th>\n",
       "      <th>Low</th>\n",
       "      <th>Close</th>\n",
       "      <th>Adj Close</th>\n",
       "      <th>Volume</th>\n",
       "    </tr>\n",
       "  </thead>\n",
       "  <tbody>\n",
       "    <tr>\n",
       "      <th>0</th>\n",
       "      <td>2002-12-31 00:00:00-05:00</td>\n",
       "      <td>8332.240234</td>\n",
       "      <td>8361.309570</td>\n",
       "      <td>8242.910156</td>\n",
       "      <td>8341.629883</td>\n",
       "      <td>8341.629883</td>\n",
       "      <td>190390000</td>\n",
       "    </tr>\n",
       "    <tr>\n",
       "      <th>1</th>\n",
       "      <td>2003-01-02 00:00:00-05:00</td>\n",
       "      <td>8342.379883</td>\n",
       "      <td>8608.269531</td>\n",
       "      <td>8342.379883</td>\n",
       "      <td>8607.519531</td>\n",
       "      <td>8607.519531</td>\n",
       "      <td>243910000</td>\n",
       "    </tr>\n",
       "    <tr>\n",
       "      <th>2</th>\n",
       "      <td>2003-01-03 00:00:00-05:00</td>\n",
       "      <td>8607.379883</td>\n",
       "      <td>8635.490234</td>\n",
       "      <td>8552.870117</td>\n",
       "      <td>8601.690430</td>\n",
       "      <td>8601.690430</td>\n",
       "      <td>234000000</td>\n",
       "    </tr>\n",
       "    <tr>\n",
       "      <th>3</th>\n",
       "      <td>2003-01-06 00:00:00-05:00</td>\n",
       "      <td>8602.780273</td>\n",
       "      <td>8800.589844</td>\n",
       "      <td>8602.099609</td>\n",
       "      <td>8773.570313</td>\n",
       "      <td>8773.570313</td>\n",
       "      <td>258040000</td>\n",
       "    </tr>\n",
       "    <tr>\n",
       "      <th>4</th>\n",
       "      <td>2003-01-07 00:00:00-05:00</td>\n",
       "      <td>8775.839844</td>\n",
       "      <td>8802.639648</td>\n",
       "      <td>8713.030273</td>\n",
       "      <td>8740.589844</td>\n",
       "      <td>8740.589844</td>\n",
       "      <td>266970000</td>\n",
       "    </tr>\n",
       "  </tbody>\n",
       "</table>\n",
       "</div>"
      ],
      "text/plain": [
       "                       Date         Open         High          Low  \\\n",
       "0 2002-12-31 00:00:00-05:00  8332.240234  8361.309570  8242.910156   \n",
       "1 2003-01-02 00:00:00-05:00  8342.379883  8608.269531  8342.379883   \n",
       "2 2003-01-03 00:00:00-05:00  8607.379883  8635.490234  8552.870117   \n",
       "3 2003-01-06 00:00:00-05:00  8602.780273  8800.589844  8602.099609   \n",
       "4 2003-01-07 00:00:00-05:00  8775.839844  8802.639648  8713.030273   \n",
       "\n",
       "         Close    Adj Close     Volume  \n",
       "0  8341.629883  8341.629883  190390000  \n",
       "1  8607.519531  8607.519531  243910000  \n",
       "2  8601.690430  8601.690430  234000000  \n",
       "3  8773.570313  8773.570313  258040000  \n",
       "4  8740.589844  8740.589844  266970000  "
      ]
     },
     "execution_count": 6,
     "metadata": {},
     "output_type": "execute_result"
    }
   ],
   "source": [
    "dji.head()"
   ]
  },
  {
   "cell_type": "code",
   "execution_count": 17,
   "metadata": {},
   "outputs": [],
   "source": [
    "dji['stock'] = (dji['Close'].shift(-1) > dji['Open'].shift(-1)) | (dji['High'].shift(-1) / dji['Open'].shift(-1) - 1 > 0.02)"
   ]
  },
  {
   "cell_type": "code",
   "execution_count": 18,
   "metadata": {},
   "outputs": [],
   "source": [
    "dji['stock'] = dji['stock'].astype('int')"
   ]
  },
  {
   "cell_type": "code",
   "execution_count": 20,
   "metadata": {},
   "outputs": [],
   "source": [
    "dji = dji[(dji['Date'] >= '2006-10-20') & (dji['Date'] <= '2013-11-25')]"
   ]
  },
  {
   "cell_type": "code",
   "execution_count": 21,
   "metadata": {},
   "outputs": [],
   "source": [
    "dji.reset_index(drop=True, inplace=True)"
   ]
  },
  {
   "cell_type": "code",
   "execution_count": 22,
   "metadata": {},
   "outputs": [],
   "source": [
    "import pickle\n",
    "dji.to_pickle(\"./dji.pkl\")"
   ]
  }
 ],
 "metadata": {
  "kernelspec": {
   "display_name": "Python 3",
   "language": "python",
   "name": "python3"
  },
  "language_info": {
   "codemirror_mode": {
    "name": "ipython",
    "version": 3
   },
   "file_extension": ".py",
   "mimetype": "text/x-python",
   "name": "python",
   "nbconvert_exporter": "python",
   "pygments_lexer": "ipython3",
   "version": "3.6.8"
  }
 },
 "nbformat": 4,
 "nbformat_minor": 2
}
